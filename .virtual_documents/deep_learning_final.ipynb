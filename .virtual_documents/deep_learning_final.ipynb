


# Import our dependencies
from sklearn.model_selection import train_test_split
from sklearn.preprocessing import StandardScaler
import pandas as pd
import tensorflow as tf

#  Import and read the charity_data.csv.
import pandas as pd
application_df = pd.read_csv("https://static.bc-edx.com/data/dl-1-2/m21/lms/starter/charity_data.csv")
application_df.head()


print(application_df.columns)


# Drop the non-beneficial ID columns, 'EIN' and 'NAME'.
application_drop_df = application_df.drop(columns=['EIN', 'NAME'])
application_drop_df


# Determine the number of unique values in each column.
unique_counts = application_drop_df.nunique()
print(unique_counts)


# Look at APPLICATION_TYPE value counts to identify and replace with "Other"
application_drop_application_df = application_drop_df ['APPLICATION_TYPE'].value_counts()
application_drop_application_df


# Choose a cutoff value and create a list of application types to be replaced
# use the variable name `application_types_to_replace`
application_types_to_replace = ['T25', 'T14', 'T29', 'T15', 'T17', 'T9','T13','T12','T2']

# Replace in dataframe
for app in application_types_to_replace:
    application_df['APPLICATION_TYPE'] = application_df['APPLICATION_TYPE'].replace(app,"Other")

# Check to make sure replacement was successful
application_df['APPLICATION_TYPE'].value_counts()


# Look at CLASSIFICATION value counts to identify and replace with "Other"
classification_count_df = application_drop_df['CLASSIFICATION'].value_counts().to_frame()
classification_count_df


# You may find it helpful to look at CLASSIFICATION value counts >1
filtered_counts = classification_count_df[classification_count_df > 1]



filtered_counts2_df = classification_count_df[classification_count_df['count'] < 1883]


classifications_to_replace = filtered_counts2_df.index.tolist()


# Choose a cutoff value and create a list of classifications to be replaced
# use the variable name `classifications_to_replace`


# Replace in dataframe
for cls in classifications_to_replace:
    application_df['CLASSIFICATION'] = application_df['CLASSIFICATION'].replace(cls,"Other")

# Check to make sure replacement was successful
application_df['CLASSIFICATION'].value_counts()


# Convert categorical data to numeric with `pd.get_dummies`
category_dummies = pd.get_dummies(application_df, columns = ['CLASSIFICATION'])
print(category_dummies)


# Split our preprocessed data into our features and target arrays


# Split the preprocessed data into a training and testing dataset
X_train, X_test, y_train, y_test = train_test_split(X, y, random_state = 100)


# Create a StandardScaler instances
scaler = StandardScaler()

# Fit the StandardScaler
X_scaler = scaler.fit(X_train)

# Scale the data
X_train_scaled = X_scaler.transform(X_train)
X_test_scaled = X_scaler.transform(X_test)





# Define the model - deep neural net, i.e., the number of input features and hidden nodes for each layer.
number_input_features = len(X_train[0])
hidden_nodes_layer1 = 8
hidden_nodes_layer2 = 5

nn = tf.keras.models.Sequential()

# First hidden layer
nn.add(
    tf.keras.layers.Dense(units=hidden_nodes_layer1, input_dim=number_input_features, activation="relu")
)

# Second hidden layer
nn.add(tf.keras.layers.Dense(units=hidden_nodes_layer2, activation="relu"))

# Output layer
nn.add(tf.keras.layers.Dense(units=1, activation = "sigmoid"))

# Check the structure of the model
nn.summary()


# Compile the model
#  YOUR CODE GOES HERE


# Train the model
#  YOUR CODE GOES HERE


# Evaluate the model using the test data
model_loss, model_accuracy = nn.evaluate(X_test_scaled,y_test,verbose=2)
print(f"Loss: {model_loss}, Accuracy: {model_accuracy}")


# Export our model to HDF5 file
#  YOUR CODE GOES HERE
